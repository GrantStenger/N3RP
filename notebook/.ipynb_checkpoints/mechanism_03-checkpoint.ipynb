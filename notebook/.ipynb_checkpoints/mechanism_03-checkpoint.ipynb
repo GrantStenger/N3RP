{
 "cells": [
  {
   "cell_type": "markdown",
   "id": "e42b8a5f",
   "metadata": {},
   "source": [
    "# To Fix\n",
    "\n",
    "For some reason, N3RP contract keeps adding eth to some of its attributes every time it is called."
   ]
  },
  {
   "cell_type": "code",
   "execution_count": 1,
   "id": "80636396",
   "metadata": {},
   "outputs": [],
   "source": [
    "from datetime import datetime"
   ]
  },
  {
   "cell_type": "code",
   "execution_count": 2,
   "id": "80ed240d",
   "metadata": {},
   "outputs": [],
   "source": [
    "class Address:\n",
    "    def __init__(self, name):\n",
    "        if type(name).__name__ == \"Address\":\n",
    "            name = name.name\n",
    "        else:\n",
    "            name = '0x' + name\n",
    "        self.name = name\n",
    "        self.address = self\n",
    "    \n",
    "    @property\n",
    "    def str(self):\n",
    "        return self.name[2:]\n",
    "    \n",
    "    def __add__(self, addr):\n",
    "        if type(addr).__name__ == \"Address\":\n",
    "            addr = addr.str\n",
    "        self.name += addr\n",
    "        return self\n",
    "    \n",
    "    def __iadd__(self, addr):\n",
    "        self.__add__(addr)\n",
    "    \n",
    "    def __repr__(self):\n",
    "        return f\"Address({self.name})\"\n",
    "        \n",
    "class Eth:\n",
    "    def __init__(self, amount):\n",
    "        self.amount = amount\n",
    "    \n",
    "    def __add__(self, eth):\n",
    "        self.amount += eth.amount\n",
    "        return self\n",
    "    \n",
    "    def __iadd__(self, eth):\n",
    "        self.amount += eth.amount\n",
    "        return self\n",
    "    \n",
    "    def __sub__(self, eth):\n",
    "        self.amount -= eth.amount\n",
    "        return self\n",
    "    \n",
    "    def __isub__(self, eth):\n",
    "        self.amount -= eth.amount\n",
    "        return self\n",
    "    \n",
    "    def __neg__(self):\n",
    "        return -self.amount\n",
    "    \n",
    "    def __pos__(self):\n",
    "        return +self.amount\n",
    "    \n",
    "    def __gt__(self, eth):\n",
    "        return self.amount > eth.amount\n",
    "    \n",
    "    def __ge__(self, eth):\n",
    "        return self.amount >= eth.amount\n",
    "    \n",
    "    def __lt__(self, eth):\n",
    "        return self.amount < eth.amount\n",
    "    \n",
    "    def __le__(self, eth):\n",
    "        return self.amount <= eth.amount\n",
    "    \n",
    "    def __eq__(self, eth):\n",
    "        return self.amount == eth.amount\n",
    "    \n",
    "    def __ne__(self, eth):\n",
    "        return self.amount != eth.amount\n",
    "    \n",
    "    def __repr__(self):\n",
    "        return f\"\\N{greek capital letter xi}{self.amount}\"\n",
    "\n",
    "\n",
    "class Nft:\n",
    "    def __init__(self, nftAddr: Address, nftId: int, price: Eth, data: str, contract):\n",
    "        self.nftAddr = Address(nftAddr)\n",
    "        self.str = self.nftAddr.str\n",
    "        self.nftId = nftId\n",
    "        self.price = price\n",
    "        self.data = data\n",
    "        self.contract = contract\n",
    "    \n",
    "    @property\n",
    "    def contractName(self):\n",
    "        #return self.contract._name\n",
    "        nameLst = list(filter(lambda x: type(x[1]).__name__ == \"Address\", self.contract.__dict__.items()))\n",
    "        assert len(nameLst) == 1, f\"Could not locate name of contract {self.contract}\"\n",
    "        return nameLst[0][1]\n",
    "    \n",
    "    @property\n",
    "    def contractType(self):\n",
    "        return type(self.contract).__name__\n",
    "    \n",
    "    def __repr__(self):\n",
    "        return f\"Nft({self.nftAddr}, {self.price}, {self.data}, {self.contractName}, {self.contractType})\"\n",
    "    \n",
    "    def __str__(self):\n",
    "        return f\"Nft({self.nftAddr})\"\n",
    "        \n",
    "class Owner:\n",
    "    def __init__(self, address: Address, *args):\n",
    "        self.address = Address(address)\n",
    "        self.str = self.address.str\n",
    "        nfts = set(filter(lambda x: type(x).__name__ == \"Nft\",args))\n",
    "        ethSet = set(filter(lambda x: type(x).__name__ == \"Eth\",args))\n",
    "        self.eth = Eth(0)\n",
    "        for ethEl in ethSet:\n",
    "            self.eth += ethEl\n",
    "        self.eventLogger = EventLogger()\n",
    "        if 'LISTOFALLCONTRACTS' not in globals():\n",
    "            globals()['LISTOFALLCONTRACTS'] = []\n",
    "        for nft in nfts:\n",
    "            self.setInitialOwner(self.address,nft)\n",
    "    \n",
    "    @property\n",
    "    def assets(self):\n",
    "        return set(self.nfts,self.eth)\n",
    "    \n",
    "    @property\n",
    "    def log(self):\n",
    "        return self.eventLogger.log\n",
    "    \n",
    "    @property\n",
    "    def nfts(self):\n",
    "        nftStringsList = []\n",
    "        #for contractType in globals()['LISTOFALLCONTRACTS']:\n",
    "        #    contracts = [k for k,v in globals().items() if type(v).__name__ == contractType]\n",
    "        #    for contract in contracts:\n",
    "        #        nftStringsList += [k for k,v in globals()[contract]._owners.items() if v == self.address]\n",
    "        #contracts = [k for k,v in globals().items() if type(v).__name__ == \"ERC721\"]\n",
    "        contracts = globals()['DICTIONARYOFALLCONTRACTS']['ERC721']\n",
    "        for contract in contracts:\n",
    "            #nftStringsList += [k for k,v in globals()[contract]._owners.items() if v == self.address]\n",
    "            nftStringsList += [k for k,v in contract._owners.items() if v == self.address]\n",
    "        \n",
    "        allNfts = [globals()[k] for k,v in globals().items() if type(v).__name__ == 'Nft']\n",
    "        myNfts = list(set([_ for _ in allNfts if _.nftAddr in nftStringsList]))\n",
    "        return myNfts\n",
    "    \n",
    "    def __add__(self, thing):\n",
    "        if type(thing).__name__ == 'Nft':\n",
    "            nft = thing\n",
    "            currOwnerAddr = self.lookupNftOwner(nft)\n",
    "            self.approve(currOwnerAddr,nft)\n",
    "            self.transferFrom(currOwnerAddr,self.address,nft)\n",
    "        elif type(thing).__name__ == \"Eth\":\n",
    "            eth = thing\n",
    "            self.eth += eth\n",
    "    \n",
    "    def __iadd__(self, thing):\n",
    "        self.__add__(thing)\n",
    "    \n",
    "    def __isub__(self, thing):\n",
    "        self.__sub__(thing)\n",
    "    \n",
    "    def lookupNftOwner(self, nft):\n",
    "        nftStringsList = []\n",
    "        #for contractType in globals()['LISTOFALLCONTRACTS']:\n",
    "        #    contracts = [k for k,v in globals().items() if type(v).__name__ == contractType]\n",
    "        #    for contract in contracts:\n",
    "        #        owner = globals()[contract].ownerOf(nft.nftAddr)\n",
    "        #        if owner:\n",
    "        #            return owner\n",
    "        #contracts = [k for k,v in globals().items() if type(v).__name__ == \"ERC721\"]\n",
    "        contracts = globals()['DICTIONARYOFALLCONTRACTS']['ERC721']\n",
    "        for contract in contracts:\n",
    "            #owner = globals()[contract].ownerOf(nft.nftAddr)\n",
    "            owner = contract.ownerOf(nft.nftAddr)\n",
    "            if owner:\n",
    "                return owner\n",
    "        return None\n",
    "    \n",
    "    def __sub__(self, thing):\n",
    "        if type(thing).__name__ == 'Nft':\n",
    "            nft = thing\n",
    "            self.burn(nft)\n",
    "        elif type(thing).__name__ == \"Eth\":\n",
    "            eth = thing\n",
    "            self.eth -= eth\n",
    "    \n",
    "    def __contains__(self, asset):\n",
    "        return asset in self.assets\n",
    "    \n",
    "    def __repr__(self):\n",
    "        return f\"Owner({self.address},{self.assets})\"\n",
    "    \n",
    "    def __str__(self):\n",
    "        return f\"Owner({self.address})\"\n",
    "    \n",
    "    def emit(self, *args):\n",
    "        self.eventLogger.emit(*args)\n",
    "    \n",
    "    def approve(self, to, nft):\n",
    "        self.emit('Approval',self.address,to.address,nft.contractType,nft.contractName)\n",
    "        #theContract = self.getContract(nft)\n",
    "        #globals()[theContract].approve(to.address, nft.nftAddr, self.address)\n",
    "        self.getContract(nft).approve(to.address, nft.nftAddr, self.address)\n",
    "    \n",
    "    def transferFrom(self,addrFrom,to,nft):\n",
    "        #self.eventLogger.emit('Transfer', addrFrom, to, nftAddr)\n",
    "        self.emit('Transfer', addrFrom.address, to.address, nft.nftAddr)\n",
    "        #theContract = self.getContract(nft)\n",
    "        #globals()[theContract].transferFrom(addrFrom.address,to.address,nft.nftAddr,self.address)\n",
    "        self.getContract(nft).transferFrom(addrFrom.address,to.address,nft.nftAddr,self.address)\n",
    "    \n",
    "    def getContract(self, nft):\n",
    "        #contractKeys = [k for k,v in dict(globals()).items() if type(v).__name__ == nft.contractType]\n",
    "        #assert len(contractKeys) == 1, \"No ERC721 contracts have been created. Or more than one has been created.\"\n",
    "        #theContract = list(filter(lambda x: globals()[x]._name == nft.contractName, contractKeys))[0]\n",
    "        #return theContract\n",
    "        contractKeys = globals()['DICTIONARYOFALLCONTRACTS'][nft.contractType]\n",
    "        assert len(contractKeys) == 1, \"No ERC721 contracts have been created. Or more than one has been created.\"\n",
    "        contractKeys = [_ for _ in contractKeys if _._name == nft.contractName]\n",
    "        assert len(contractKeys) == 1, \"No ERC721 contracts have been created. Or more than one has been created.\"\n",
    "        theContract = contractKeys[0]\n",
    "        return theContract\n",
    "    \n",
    "    def setInitialOwner(self, to, nft):\n",
    "        #self.eventLogger.emit('Transfer',to,nftAddr,ERC721Name)\n",
    "        self.emit('SetInitialOwner',to.address,nft.nftAddr,nft.contractType,nft.contractName)\n",
    "        #theContract = self.getContract(nft)\n",
    "        #globals()[theContract].setInitialOwner(to.address,nft.nftAddr,self.address)\n",
    "        self.getContract(nft).setInitialOwner(to.address,nft.nftAddr,self.address)\n",
    "    \n",
    "    def setInitialOwners(self, toList, nfts):\n",
    "        #self.eventLogger.emit('Transfer',to,nftAddr,ERC721Name)\n",
    "        nftAddrs = [_.nftAddr for _ in nfts]\n",
    "        contractTypes = [_.contractType for _ in nfts]\n",
    "        contractNames = [_.contractNames for _ in nfts]\n",
    "        self.emit('SetInitialOwners',toList,nftAddrs,nftContracts,nftNames)\n",
    "        theContracts = [self.getContract(_) for _ in contractNames]\n",
    "        for theContract in list(set(theContracts)):\n",
    "            contractIdxs = np.where(theContracts == theContract)\n",
    "            currToList = np.array(toList)[contractIdxs]\n",
    "            nftAddrs = np.array(nftAddrs)[contractIdxs]\n",
    "            #globals()[theContract].setInitialOwners(toList,nftAddrs,self.address)\n",
    "            theContract.setInitialOwners(toList,nftAddrs,self.address)\n",
    "    \n",
    "    def burn(self,nft):\n",
    "        self.emit('Burn',nft.nftAddr,nft.contractType,nft.contractName)\n",
    "        theContract = self.getContract(nft)\n",
    "        globals()[theContract]._burn(nft.nftAddr,self.address)\n",
    "    \n",
    "    def N3RP(self, lenderAddr: Address, borrowerAddr: Address, nftAddr: Address, basePayment: Eth, collateral: Eth, rentalDueDate: str, collateralPayoutPeriod: str):\n",
    "        if 'N3RPCONTRACTBANK' not in globals().keys():\n",
    "            globals()['N3RPCONTRACTBANK'] = {}\n",
    "        currNumOfN3RPContracts = len(globals()[\"N3RPCONTRACTBANK\"])\n",
    "        globals()[f'N3RPNUMBER{currNumOfN3RPContracts}'] = N3RP(lenderAddr, borrowerAddr, self.address, nftAddr, basePayment, collateral, rentalDueDate, collateralPayoutPeriod)\n",
    "        globals()['N3RPCONTRACTBANK'][f'N3RPNUMBER{currNumOfN3RPContracts}'] = globals()[f'N3RPNUMBER{currNumOfN3RPContracts}']\n",
    "    \n",
    "    def depositNft(self, N3RPContract: N3RP):\n",
    "        N3RPContract.depositNft(N3RPContract.nftAddr, self.address)\n",
    "        self.emit('DepositNft',self,N3RPContract.nftAddr,N3RPContract.nftContractType,N3RPContract.nftContractName)\n",
    "        self.transferFrom(N3RPContract.lenderAddr, N3RPContract.address, N3RPContract.nft)\n",
    "    \n",
    "    def depositEth(self, N3RPContract: N3RP):\n",
    "        assert self.eth > N3RPContract.basePayment + N3RPContract.collateral, f\"Eth Deposit Error: your {self.eth} is insufficient for this contract requiring {N3RP.basePayment + N3RP.collateral}\"\n",
    "        self.eth -= N3RPContract.basePayment + N3RPContract.collateral\n",
    "        self.emit('DepositEth',self,N3RPContract.nftAddr,N3RPContract.nftContractType,N3RPContract.nftContractName)\n",
    "        N3RPContract.depositEth(N3RPContract.basePayment, N3RPContract.collateral, self.address)\n",
    "\n",
    "\n",
    "class EventLogger:\n",
    "    def __init__(self):\n",
    "        self.log = {}\n",
    "        self.activeClasses = []\n",
    "    \n",
    "    def __iadd__(self, c):\n",
    "        if str(c) not in self.activeClasses:\n",
    "            self.activeClasses.append(str(c))\n",
    "    \n",
    "    @property\n",
    "    def events(self):\n",
    "        return list(self.log.keys())\n",
    "    \n",
    "    def emit(self,eventName,eventCaller,eventResponder,*args):\n",
    "        #time, #type of event, #parameters\n",
    "        currTime = datetime.now().strftime('%Y/%M/%d %H:%M:%S')\n",
    "        result = [eventName, eventCaller, eventResponder, currTime, *args]\n",
    "        if eventName not in self.log.keys():\n",
    "            self.log[eventName] = [result]\n",
    "        else:\n",
    "            self.log[eventName] += [result]\n",
    "    \n",
    "    def __repr__(self):\n",
    "        return f\"EventLogger({self.log},{self.activeClasses})\"\n",
    "\n",
    "class Contract:\n",
    "    def __init__(self,contractTypeName,contract):\n",
    "        if 'LISTOFALLCONTRACTTYPES' not in globals():\n",
    "            globals()['LISTOFALLCONTRACTTYPES'] = [contractTypeName]\n",
    "        else:\n",
    "            globals()['LISTOFALLCONTRACTTYPES'] += [contractTypeName]\n",
    "        if 'DICTIONARYOFALLCONTRACTS' not in globals():\n",
    "            globals()['DICTIONARYOFALLCONTRACTS'] = {}\n",
    "        if contractTypeName not in globals()['DICTIONARYOFALLCONTRACTS'].keys():\n",
    "            globals()['DICTIONARYOFALLCONTRACTS'][contractTypeName] = [contract]\n",
    "        if contract not in globals()['DICTIONARYOFALLCONTRACTS'][contractTypeName]:\n",
    "            globals()['DICTIONARYOFALLCONTRACTS'][contractTypeName] += [contract]\n",
    "    \n",
    "    @staticmethod\n",
    "    def contractTypes():\n",
    "        return globals()['LISTOFALLCONTRACTTYPES']\n",
    "    \n",
    "    @staticmethod\n",
    "    def contractDict():\n",
    "        return globals()['DICTIONARYOFALLCONTRACTS']\n",
    "\n",
    "\n",
    "class ERC721(Contract):\n",
    "    def __init__(self, name_: Address, symbol_: str):\n",
    "        self._name = name_\n",
    "        self._symbol = symbol_\n",
    "        self._owners = {}\n",
    "        self._balances = {}\n",
    "        self._tokenApprovals = {}\n",
    "        self._operatorApprovals = {}\n",
    "        self.eventLogger = EventLogger()\n",
    "        self.allTokensAssigned = False\n",
    "        self.nftsRemainingToAssign = 10000\n",
    "        super().__init__(type(self).__name__, self)\n",
    "    \n",
    "    @property\n",
    "    def log(self):\n",
    "        return self.eventLogger.log\n",
    "    \n",
    "    def __repr__(self):\n",
    "        return f\"ERC721({self._name}, {self._symbol}, {self._owners}, {self._balances}, {self._tokenApprovals}, {self._operatorApprovals}, {self.eventLogger}, {self.allTokensAssigned})\"\n",
    "    \n",
    "    def __str__(self):\n",
    "        return f\"ERC721({self._name})\"\n",
    "    \n",
    "    def _exists(self, nftAddr):\n",
    "        return nftAddr in self._owners.keys()\n",
    "    \n",
    "    def balanceOf(self, ownerAddress):\n",
    "        if ownerAddress in self._balances.keys():\n",
    "            return self._balances[ownerAddress]\n",
    "        return None\n",
    "    \n",
    "    def ownerOf(self, nftAddr):\n",
    "        if self._exists(nftAddr):\n",
    "            return self._owners[nftAddr]\n",
    "        return None\n",
    "    \n",
    "    def _approve(self, to, nftAddr):\n",
    "        self._tokenApprovals[nftAddr] = to\n",
    "        #self.eventLogger.emit(\"Approval\",self.ownerOf(nftAddr), to, nftAddr)\n",
    "        self.emit(\"Approval\",self.ownerOf(nftAddr), to, nftAddr)\n",
    "    \n",
    "    def approve(self, to, nftAddr, msgSender):\n",
    "        owner = self.ownerOf(nftAddr)\n",
    "        assert owner != to, \"ERC721: approve caller is not owner nor approved for all\"\n",
    "        #assert msgSender == owner | isApprovedForAll(owner, msgSender), \"Error\"\n",
    "        self._approve(to, nftAddr)\n",
    "    \n",
    "    def isApprovedForAll(self,owner,operator):\n",
    "        if owner in self._operatorApprovals.keys():\n",
    "            return operator in self._operatorApprovals[owner].keys()\n",
    "        return False\n",
    "    \n",
    "    def transferFrom(self,addrFrom,to,nftAddr,msgSender):\n",
    "        assert self._isApprovedOrOwner(msgSender, nftAddr), \"ERC721: transfer caller is not owner nor approved\"\n",
    "        self._transfer(addrFrom, to, nftAddr)\n",
    "    \n",
    "    def _isApprovedOrOwner(self, spender, nftAddr):\n",
    "        assert self._exists(nftAddr), \"ERC721: operator query for nonexistent token\"\n",
    "        owner = self.ownerOf(nftAddr)\n",
    "        print(f'{spender=}, {nftAddr=}, {owner=}')\n",
    "        print((spender == owner), (self.getApproved(nftAddr) == spender))\n",
    "        return (spender == owner) | (self.getApproved(nftAddr) == spender) | (self.isApprovedForAll(owner, spender))\n",
    "    \n",
    "    def getApproved(self, nftAddr):\n",
    "        assert self._exists(nftAddr), \"ERC721: approved query for nonexistent token\"\n",
    "        return nftAddr in self._tokenApprovals.keys();\n",
    "    \n",
    "    def _transfer(self, addrFrom, to, nftAddr):\n",
    "        assert self.ownerOf(nftAddr) == addrFrom, \"ERC721: transfer from incorrect owner\"\n",
    "        assert to != None, \"ERC721: transfer to the zero address\"\n",
    "        self._beforeTokenTransfer(addrFrom, to, nftAddr)\n",
    "        self._approve(None, nftAddr)\n",
    "        self._balances[addrFrom] -= 1\n",
    "        if to not in self._balances.keys():\n",
    "            self._balances[to] = 0\n",
    "        self._balances[to] += 1\n",
    "        self._owners[nftAddr] = to\n",
    "        #self.eventLogger.emit(\"Transfer\",addrFrom, to, nftAddr)\n",
    "        self.emit(\"Transfer\",addrFrom, to, nftAddr)\n",
    "        self._afterTokenTransfer(addrFrom, to, nftAddr)\n",
    "    \n",
    "    def _afterTokenTransfer(self, addrFrom, to, nftAddr):\n",
    "        pass\n",
    "    \n",
    "    def _safeMint(self, to, nftAddr, _data=\"\"):\n",
    "        self._mint(to, nftAddr)\n",
    "        assert self._checkOnERC721Received(None, to, nftAddr, _data), \"ERC721: transfer to non ERC721Receiver implementer\"\n",
    "    \n",
    "    def _checkOnERC721Received(self, addrFrom, to, nftAddr, _data):\n",
    "        #Add in later\n",
    "        return True\n",
    "    \n",
    "    def _mint(self, to, nftAddr):\n",
    "        assert to != None, \"ERC721: mint to the zero address\"\n",
    "        assert not self._exists(nftAddr), \"ERC721: token already minted\"\n",
    "        self._beforeTokenTransfer(None, to, nftAddr)\n",
    "        if to not in self._balances.keys():\n",
    "            self._balances[to] = 0\n",
    "        self._balances[to] += 1\n",
    "        self._owners[nftAddr] = to\n",
    "        #self.eventLogger.emit(\"Transfer\",None, to, nftAddr)\n",
    "        self.emit(\"Transfer\",None, to, nftAddr)\n",
    "        self._afterTokenTransfer(None, to, nftAddr)\n",
    "    \n",
    "    def _beforeTokenTransfer(self, addrFrom, to, nftAddr):\n",
    "        pass\n",
    "    \n",
    "    def _afterTokenTransfer(self, addrFrom, to, nftAddr):\n",
    "        pass\n",
    "    \n",
    "    def setInitialOwner(self, to, nftAddr, msgSender):\n",
    "        self.emit(\"Mint\",msgSender,to,nftAddr)\n",
    "        self._mint(to, nftAddr)\n",
    "    \n",
    "    def setInitialOwners(self, toList, nftAddrs, msgSender):\n",
    "        [self.setInitialOwner(to, nftAddr, msgSender) for to,nftAddr in zip(toList,nftAddrs)]\n",
    "    \n",
    "    def emit(self,*args):\n",
    "        self.eventLogger.emit(*args)\n",
    "    \n",
    "    def _burn(self, nftAddr, msgSender):\n",
    "        owner = self.ownerOf(nftAddr)\n",
    "        self._beforeTokenTransfer(owner, None, nftAddr)\n",
    "        \n",
    "        self._approve(None, nftAddr)\n",
    "        \n",
    "        self._balances[owner] -= 1\n",
    "        del self._owners[nftAddr]\n",
    "        \n",
    "        self.emit(\"Transfer\", msgSender, owner, None, nftAddr)\n",
    "        \n",
    "        self._afterTokenTransfer(owner, None, nftAddr)\n",
    "\n",
    "\n",
    "\n",
    "class N3RP(Contract):\n",
    "    def __init__(self,\n",
    "                 lenderAddr: Address,\n",
    "                 borrowerAddr: Address,\n",
    "                 initiatorAddr: Address,\n",
    "                 nft: Nft,\n",
    "                 basePayment: Eth,\n",
    "                 collateral: Eth,\n",
    "                 rentalDueDate: str, #Will be a ethereum blocktime, in reality\n",
    "                 collateralPayoutPeriod: str, #Will be an integer number of blocks, in reality\n",
    "                ):\n",
    "        self.address = Address(type(self).__name__) + nft.nftAddr\n",
    "        self.eth = Eth(0)\n",
    "        self.str = self.address\n",
    "        self.lenderAddr = lenderAddr\n",
    "        self.borrowerAddr = borrowerAddr\n",
    "        self.initiatorAddr = initiatorAddr\n",
    "        self.nft = nft\n",
    "        self.basePayment = basePayment\n",
    "        self.collateral = collateral\n",
    "        self.rentalDueDate = rentalDueDate\n",
    "        self.collateralPayoutPeriod = collateralPayoutPeriod\n",
    "        super().__init__(type(self).__name__,self)\n",
    "    \n",
    "    @property\n",
    "    def nftAddr(self):\n",
    "        return self.nft.nftAddr\n",
    "    \n",
    "    @property\n",
    "    def nftContractName(self):\n",
    "        return self.nft.contractName\n",
    "    \n",
    "    @property\n",
    "    def nftContractType(self):\n",
    "        return self.nft.contractType\n",
    "    \n",
    "    @property\n",
    "    def nftIsDeposited(self):\n",
    "        #theContract = self.getContract(self.nft)\n",
    "        #if self.address == globals()[theContract].ownerOf(self.nft.nftAddr):\n",
    "        if self.address == self.getContract(self.nft).ownerOf(self.nft.nftAddr):\n",
    "            return True\n",
    "        return False\n",
    "    \n",
    "    @property\n",
    "    def ethIsDeposited(self):\n",
    "        return self.basePayment + self.collateral >= self.eth\n",
    "    \n",
    "    def testFunction(self):\n",
    "        return super().contractDict()\n",
    "    \n",
    "    def getContract(self, nft):\n",
    "        #contractKeys = [k for k,v in dict(globals()).items() if type(v).__name__ == nft.contractType]\n",
    "        contractKeys = globals()['DICTIONARYOFALLCONTRACTS'][nft.contractType]\n",
    "        assert len(contractKeys) == 1, \"No ERC721 contracts have been created. Or more than one has been created.\"\n",
    "        #contractKeys = list(filter(lambda x: globals()[x]._name == nft.contractName, contractKeys))\n",
    "        contractKeys = [_ for _ in contractKeys if _._name == nft.contractName]\n",
    "        assert len(contractKeys) == 1, \"No ERC721 contracts have been created. Or more than one has been created.\"\n",
    "        theContract = contractKeys[0]\n",
    "        return theContract\n",
    "    \n",
    "    def depositNft(self, nftAddr: Address, msgSender: Address):\n",
    "        assert self.nftIsDeposited is False, f\"Nft Deposit Error: an nft has already been deposited here\"\n",
    "        assert self.lenderAddr == msgSender, f\"Nft Deposit Error: sender {msgSender} is not lender {self.lenderAddr}\"\n",
    "        assert self.nftAddr == nftAddr, f\"Nft Deposit Error: deposited nft {nftAddr} does not match the stipulated nft {self.nftAddr}\"\n",
    "        #self.nftIsDeposited = True\n",
    "        return True\n",
    "    \n",
    "    def depositEth(self, basePayment: Eth, collateral: Eth, depositorAddr: Address):\n",
    "        assert self.ethIsDeposited is False, f\"Eth Deposit Error: eth has already been deposited here\"\n",
    "        assert self.basePayment == basePayment, f\"Eth Deposit Error: a base payment of {self.basePayment} is required, but {basePayment} was received\"\n",
    "        assert self.collateral == collateral, f\"Eth Deposit Error: a collateral of {self.collateral} is required, but {collateral} was received\"\n",
    "        assert self.depositorAddr == depositorAddr, f\"Eth Deposit Error: sender {depositorAddr} is not the depositor {self.depositor}\"\n",
    "        self.eth = self.basePayment + self.depositorAddr\n",
    "        return True\n",
    "    \n",
    "    def __repr__(self):\n",
    "        return f\"N3RP({self.address},{self.eth},{self.str},{self.lenderAddr},{self.borrowerAddr},{self.initiatorAddr},{self.nft},{self.basePayment},{self.collateral},{self.rentalDueDate},{self.collateralPayoutPeriod},{self.nftIsDeposited},{self.ethIsDeposited})\"\n"
   ]
  },
  {
   "cell_type": "code",
   "execution_count": 3,
   "id": "4d80be46",
   "metadata": {},
   "outputs": [],
   "source": [
    "theERC721 = ERC721(Address('CryptoPunks'), 'CRYPTOPUNKS')\n",
    "\n",
    "nft1 = Nft(Address('JjCoin'), 1, Eth(100), '', theERC721)\n",
    "nft2 = Nft(Address('GgCoin'), 2, Eth(1000), '', theERC721)\n",
    "owner1 = Owner('Gg')\n",
    "owner2 = Owner('Jj')\n",
    "owner3 = Owner('xXxCryptoLordxXx')\n",
    "# owner3.approve(owner2.address,nft2.nftId,'CryptoPunks')"
   ]
  },
  {
   "cell_type": "code",
   "execution_count": 4,
   "id": "a31bc550",
   "metadata": {},
   "outputs": [],
   "source": [
    "nft1.nftAddr\n",
    "# owner2.setInitialOwner(owner2, nft1)\n",
    "owner1 + Eth(100)"
   ]
  },
  {
   "cell_type": "code",
   "execution_count": null,
   "id": "8a634f16",
   "metadata": {},
   "outputs": [],
   "source": []
  },
  {
   "cell_type": "code",
   "execution_count": 5,
   "id": "2010b158",
   "metadata": {},
   "outputs": [],
   "source": [
    "lender = Owner(Address('Lender'))\n",
    "lender.setInitialOwner(lender, nft1)\n",
    "borrower = Owner(Address('Borrower'))\n",
    "borrower + Eth(1000)"
   ]
  },
  {
   "cell_type": "code",
   "execution_count": 6,
   "id": "bbdf8472",
   "metadata": {},
   "outputs": [],
   "source": [
    "# lenderAddr, borrowerAddr, nftAddr, basePayment, collateral, rentalDueDate\n",
    "lender.N3RP(lender.address, borrower.address, nft1, Eth(2), Eth(25), '20220209', '20220211')"
   ]
  },
  {
   "cell_type": "code",
   "execution_count": 7,
   "id": "90faa716",
   "metadata": {},
   "outputs": [
    {
     "name": "stdout",
     "output_type": "stream",
     "text": [
      "spender=Address(0xLender), nftAddr=Address(0xJjCoin), owner=Address(0xLender)\n",
      "True False\n"
     ]
    }
   ],
   "source": [
    "N3RPContractStr = list(globals()['N3RPCONTRACTBANK'].keys())[0]\n",
    "lender.depositNft(globals()[N3RPContractStr])"
   ]
  },
  {
   "cell_type": "code",
   "execution_count": 8,
   "id": "5c8e84b1",
   "metadata": {},
   "outputs": [
    {
     "data": {
      "text/plain": [
       "'N3RPNUMBER0'"
      ]
     },
     "execution_count": 8,
     "metadata": {},
     "output_type": "execute_result"
    }
   ],
   "source": [
    "N3RPContractStr"
   ]
  },
  {
   "cell_type": "code",
   "execution_count": 9,
   "id": "f3875cab",
   "metadata": {},
   "outputs": [
    {
     "data": {
      "text/plain": [
       "Address(0xN3RPJjCoin)"
      ]
     },
     "execution_count": 9,
     "metadata": {},
     "output_type": "execute_result"
    }
   ],
   "source": [
    "theERC721.ownerOf(globals()[N3RPContractStr].nft.nftAddr)"
   ]
  },
  {
   "cell_type": "code",
   "execution_count": 10,
   "id": "633b883f",
   "metadata": {},
   "outputs": [
    {
     "data": {
      "text/plain": [
       "Nft(Address(0xJjCoin), Ξ100, , Address(0xCryptoPunks), ERC721)"
      ]
     },
     "execution_count": 10,
     "metadata": {},
     "output_type": "execute_result"
    }
   ],
   "source": [
    "nft1"
   ]
  },
  {
   "cell_type": "code",
   "execution_count": 11,
   "id": "f708fee1",
   "metadata": {},
   "outputs": [
    {
     "data": {
      "text/plain": [
       "ERC721(Address(0xCryptoPunks), CRYPTOPUNKS, {Address(0xJjCoin): Address(0xN3RPJjCoin)}, {Address(0xLender): 0, Address(0xN3RPJjCoin): 1}, {Address(0xJjCoin): None}, {}, EventLogger({'Mint': [['Mint', Address(0xLender), Address(0xLender), '2022/44/06 19:44:50', Address(0xJjCoin)]], 'Transfer': [['Transfer', None, Address(0xLender), '2022/44/06 19:44:50', Address(0xJjCoin)], ['Transfer', Address(0xLender), Address(0xN3RPJjCoin), '2022/44/06 19:44:51', Address(0xJjCoin)]], 'Approval': [['Approval', Address(0xLender), None, '2022/44/06 19:44:51', Address(0xJjCoin)]]},[]), False)"
      ]
     },
     "execution_count": 11,
     "metadata": {},
     "output_type": "execute_result"
    }
   ],
   "source": [
    "theERC721"
   ]
  },
  {
   "cell_type": "code",
   "execution_count": 12,
   "id": "bab8b9e5",
   "metadata": {},
   "outputs": [
    {
     "data": {
      "text/plain": [
       "[]"
      ]
     },
     "execution_count": 12,
     "metadata": {},
     "output_type": "execute_result"
    }
   ],
   "source": [
    "borrower.nfts"
   ]
  },
  {
   "cell_type": "code",
   "execution_count": 13,
   "id": "5f460963",
   "metadata": {},
   "outputs": [
    {
     "data": {
      "text/plain": [
       "{'address': Address(0xN3RPJjCoin),\n",
       " 'eth': Ξ0,\n",
       " 'str': Address(0xN3RPJjCoin),\n",
       " 'lenderAddr': Address(0xLender),\n",
       " 'borrowerAddr': Address(0xBorrower),\n",
       " 'initiatorAddr': Address(0xLender),\n",
       " 'nft': Nft(Address(0xJjCoin), Ξ100, , Address(0xCryptoPunks), ERC721),\n",
       " 'basePayment': Ξ2,\n",
       " 'collateral': Ξ25,\n",
       " 'rentalDueDate': '20220209',\n",
       " 'collateralPayoutPeriod': '20220211'}"
      ]
     },
     "execution_count": 13,
     "metadata": {},
     "output_type": "execute_result"
    }
   ],
   "source": [
    "globals()[N3RPContractStr].__dict__"
   ]
  },
  {
   "cell_type": "code",
   "execution_count": 14,
   "id": "f03657e9",
   "metadata": {},
   "outputs": [
    {
     "ename": "AssertionError",
     "evalue": "Eth Deposit Error: eth has already been deposited here",
     "output_type": "error",
     "traceback": [
      "\u001b[1;31m---------------------------------------------------------------------------\u001b[0m",
      "\u001b[1;31mAssertionError\u001b[0m                            Traceback (most recent call last)",
      "\u001b[1;32m~\\AppData\\Local\\Temp/ipykernel_20352/4036002320.py\u001b[0m in \u001b[0;36m<module>\u001b[1;34m\u001b[0m\n\u001b[1;32m----> 1\u001b[1;33m \u001b[0mowner1\u001b[0m\u001b[1;33m.\u001b[0m\u001b[0mdepositEth\u001b[0m\u001b[1;33m(\u001b[0m\u001b[0mN3RPNUMBER0\u001b[0m\u001b[1;33m)\u001b[0m\u001b[1;33m\u001b[0m\u001b[1;33m\u001b[0m\u001b[0m\n\u001b[0m",
      "\u001b[1;32m~\\AppData\\Local\\Temp/ipykernel_20352/952741693.py\u001b[0m in \u001b[0;36mdepositEth\u001b[1;34m(self, N3RPContract)\u001b[0m\n\u001b[0;32m    258\u001b[0m         \u001b[0mself\u001b[0m\u001b[1;33m.\u001b[0m\u001b[0meth\u001b[0m \u001b[1;33m-=\u001b[0m \u001b[0mN3RPContract\u001b[0m\u001b[1;33m.\u001b[0m\u001b[0mbasePayment\u001b[0m \u001b[1;33m+\u001b[0m \u001b[0mN3RPContract\u001b[0m\u001b[1;33m.\u001b[0m\u001b[0mcollateral\u001b[0m\u001b[1;33m\u001b[0m\u001b[1;33m\u001b[0m\u001b[0m\n\u001b[0;32m    259\u001b[0m         \u001b[0mself\u001b[0m\u001b[1;33m.\u001b[0m\u001b[0memit\u001b[0m\u001b[1;33m(\u001b[0m\u001b[1;34m'DepositEth'\u001b[0m\u001b[1;33m,\u001b[0m\u001b[0mself\u001b[0m\u001b[1;33m,\u001b[0m\u001b[0mN3RPContract\u001b[0m\u001b[1;33m.\u001b[0m\u001b[0mnftAddr\u001b[0m\u001b[1;33m,\u001b[0m\u001b[0mN3RPContract\u001b[0m\u001b[1;33m.\u001b[0m\u001b[0mnftContractType\u001b[0m\u001b[1;33m,\u001b[0m\u001b[0mN3RPContract\u001b[0m\u001b[1;33m.\u001b[0m\u001b[0mnftContractName\u001b[0m\u001b[1;33m)\u001b[0m\u001b[1;33m\u001b[0m\u001b[1;33m\u001b[0m\u001b[0m\n\u001b[1;32m--> 260\u001b[1;33m         \u001b[0mN3RPContract\u001b[0m\u001b[1;33m.\u001b[0m\u001b[0mdepositEth\u001b[0m\u001b[1;33m(\u001b[0m\u001b[0mN3RPContract\u001b[0m\u001b[1;33m.\u001b[0m\u001b[0mbasePayment\u001b[0m\u001b[1;33m,\u001b[0m \u001b[0mN3RPContract\u001b[0m\u001b[1;33m.\u001b[0m\u001b[0mcollateral\u001b[0m\u001b[1;33m,\u001b[0m \u001b[0mself\u001b[0m\u001b[1;33m.\u001b[0m\u001b[0maddress\u001b[0m\u001b[1;33m)\u001b[0m\u001b[1;33m\u001b[0m\u001b[1;33m\u001b[0m\u001b[0m\n\u001b[0m\u001b[0;32m    261\u001b[0m \u001b[1;33m\u001b[0m\u001b[0m\n\u001b[0;32m    262\u001b[0m \u001b[1;33m\u001b[0m\u001b[0m\n",
      "\u001b[1;32m~\\AppData\\Local\\Temp/ipykernel_20352/952741693.py\u001b[0m in \u001b[0;36mdepositEth\u001b[1;34m(self, basePayment, collateral, depositorAddr)\u001b[0m\n\u001b[0;32m    512\u001b[0m \u001b[1;33m\u001b[0m\u001b[0m\n\u001b[0;32m    513\u001b[0m     \u001b[1;32mdef\u001b[0m \u001b[0mdepositEth\u001b[0m\u001b[1;33m(\u001b[0m\u001b[0mself\u001b[0m\u001b[1;33m,\u001b[0m \u001b[0mbasePayment\u001b[0m\u001b[1;33m:\u001b[0m \u001b[0mEth\u001b[0m\u001b[1;33m,\u001b[0m \u001b[0mcollateral\u001b[0m\u001b[1;33m:\u001b[0m \u001b[0mEth\u001b[0m\u001b[1;33m,\u001b[0m \u001b[0mdepositorAddr\u001b[0m\u001b[1;33m:\u001b[0m \u001b[0mAddress\u001b[0m\u001b[1;33m)\u001b[0m\u001b[1;33m:\u001b[0m\u001b[1;33m\u001b[0m\u001b[1;33m\u001b[0m\u001b[0m\n\u001b[1;32m--> 514\u001b[1;33m         \u001b[1;32massert\u001b[0m \u001b[0mself\u001b[0m\u001b[1;33m.\u001b[0m\u001b[0methIsDeposited\u001b[0m \u001b[1;32mis\u001b[0m \u001b[1;32mFalse\u001b[0m\u001b[1;33m,\u001b[0m \u001b[1;34mf\"Eth Deposit Error: eth has already been deposited here\"\u001b[0m\u001b[1;33m\u001b[0m\u001b[1;33m\u001b[0m\u001b[0m\n\u001b[0m\u001b[0;32m    515\u001b[0m         \u001b[1;32massert\u001b[0m \u001b[0mself\u001b[0m\u001b[1;33m.\u001b[0m\u001b[0mbasePayment\u001b[0m \u001b[1;33m==\u001b[0m \u001b[0mbasePayment\u001b[0m\u001b[1;33m,\u001b[0m \u001b[1;34mf\"Eth Deposit Error: a base payment of {self.basePayment} is required, but {basePayment} was received\"\u001b[0m\u001b[1;33m\u001b[0m\u001b[1;33m\u001b[0m\u001b[0m\n\u001b[0;32m    516\u001b[0m         \u001b[1;32massert\u001b[0m \u001b[0mself\u001b[0m\u001b[1;33m.\u001b[0m\u001b[0mcollateral\u001b[0m \u001b[1;33m==\u001b[0m \u001b[0mcollateral\u001b[0m\u001b[1;33m,\u001b[0m \u001b[1;34mf\"Eth Deposit Error: a collateral of {self.collateral} is required, but {collateral} was received\"\u001b[0m\u001b[1;33m\u001b[0m\u001b[1;33m\u001b[0m\u001b[0m\n",
      "\u001b[1;31mAssertionError\u001b[0m: Eth Deposit Error: eth has already been deposited here"
     ]
    }
   ],
   "source": [
    "owner1.depositEth(N3RPNUMBER0)"
   ]
  },
  {
   "cell_type": "code",
   "execution_count": 15,
   "id": "58e44717",
   "metadata": {},
   "outputs": [
    {
     "data": {
      "text/plain": [
       "Ξ48"
      ]
     },
     "execution_count": 15,
     "metadata": {},
     "output_type": "execute_result"
    }
   ],
   "source": [
    "owner1.eth"
   ]
  },
  {
   "cell_type": "code",
   "execution_count": 16,
   "id": "b228c975",
   "metadata": {},
   "outputs": [
    {
     "data": {
      "text/plain": [
       "N3RP(Address(0xN3RPJjCoin),Ξ0,Address(0xN3RPJjCoin),Address(0xLender),Address(0xBorrower),Address(0xLender),Nft(Address(0xJjCoin)),Ξ77,Ξ25,20220209,20220211,True,True)"
      ]
     },
     "execution_count": 16,
     "metadata": {},
     "output_type": "execute_result"
    }
   ],
   "source": [
    "globals()[N3RPContractStr]"
   ]
  },
  {
   "cell_type": "code",
   "execution_count": 17,
   "id": "cbc5470b",
   "metadata": {},
   "outputs": [
    {
     "data": {
      "text/plain": [
       "N3RP(Address(0xN3RPJjCoin),Ξ0,Address(0xN3RPJjCoin),Address(0xLender),Address(0xBorrower),Address(0xLender),Nft(Address(0xJjCoin)),Ξ102,Ξ25,20220209,20220211,True,True)"
      ]
     },
     "execution_count": 17,
     "metadata": {},
     "output_type": "execute_result"
    }
   ],
   "source": [
    "list(Contract.contractDict().values())[1][0]"
   ]
  },
  {
   "cell_type": "code",
   "execution_count": 18,
   "id": "5e37df23",
   "metadata": {},
   "outputs": [
    {
     "name": "stdout",
     "output_type": "stream",
     "text": [
      "{'ERC721': [ERC721(Address(0xCryptoPunks), CRYPTOPUNKS, {Address(0xJjCoin): Address(0xN3RPJjCoin)}, {Address(0xLender): 0, Address(0xN3RPJjCoin): 1}, {Address(0xJjCoin): None}, {}, EventLogger({'Mint': [['Mint', Address(0xLender), Address(0xLender), '2022/44/06 19:44:50', Address(0xJjCoin)]], 'Transfer': [['Transfer', None, Address(0xLender), '2022/44/06 19:44:50', Address(0xJjCoin)], ['Transfer', Address(0xLender), Address(0xN3RPJjCoin), '2022/44/06 19:44:51', Address(0xJjCoin)]], 'Approval': [['Approval', Address(0xLender), None, '2022/44/06 19:44:51', Address(0xJjCoin)]]},[]), False)],\n",
      " 'N3RP': [N3RP(Address(0xN3RPJjCoin),Ξ0,Address(0xN3RPJjCoin),Address(0xLender),Address(0xBorrower),Address(0xLender),Nft(Address(0xJjCoin)),Ξ177,Ξ25,20220209,20220211,True,True)]}\n"
     ]
    }
   ],
   "source": [
    "from pprint import pprint\n",
    "\n",
    "pprint(Contract.contractDict())"
   ]
  },
  {
   "cell_type": "code",
   "execution_count": 19,
   "id": "d356e9cd",
   "metadata": {},
   "outputs": [
    {
     "ename": "IndexError",
     "evalue": "list index out of range",
     "output_type": "error",
     "traceback": [
      "\u001b[1;31m---------------------------------------------------------------------------\u001b[0m",
      "\u001b[1;31mIndexError\u001b[0m                                Traceback (most recent call last)",
      "\u001b[1;32m~\\AppData\\Local\\Temp/ipykernel_20352/1954309846.py\u001b[0m in \u001b[0;36m<module>\u001b[1;34m\u001b[0m\n\u001b[1;32m----> 1\u001b[1;33m \u001b[0mlist\u001b[0m\u001b[1;33m(\u001b[0m\u001b[0mContract\u001b[0m\u001b[1;33m.\u001b[0m\u001b[0mcontractDict\u001b[0m\u001b[1;33m(\u001b[0m\u001b[1;33m)\u001b[0m\u001b[1;33m.\u001b[0m\u001b[0mvalues\u001b[0m\u001b[1;33m(\u001b[0m\u001b[1;33m)\u001b[0m\u001b[1;33m)\u001b[0m\u001b[1;33m[\u001b[0m\u001b[1;36m0\u001b[0m\u001b[1;33m]\u001b[0m\u001b[1;33m[\u001b[0m\u001b[1;36m0\u001b[0m\u001b[1;33m]\u001b[0m \u001b[1;33m==\u001b[0m \u001b[0mlist\u001b[0m\u001b[1;33m(\u001b[0m\u001b[0mContract\u001b[0m\u001b[1;33m.\u001b[0m\u001b[0mcontractDict\u001b[0m\u001b[1;33m(\u001b[0m\u001b[1;33m)\u001b[0m\u001b[1;33m.\u001b[0m\u001b[0mvalues\u001b[0m\u001b[1;33m(\u001b[0m\u001b[1;33m)\u001b[0m\u001b[1;33m)\u001b[0m\u001b[1;33m[\u001b[0m\u001b[1;36m0\u001b[0m\u001b[1;33m]\u001b[0m\u001b[1;33m[\u001b[0m\u001b[1;36m1\u001b[0m\u001b[1;33m]\u001b[0m\u001b[1;33m\u001b[0m\u001b[1;33m\u001b[0m\u001b[0m\n\u001b[0m",
      "\u001b[1;31mIndexError\u001b[0m: list index out of range"
     ]
    }
   ],
   "source": [
    "list(Contract.contractDict().values())[0][0] == list(Contract.contractDict().values())[0][1]"
   ]
  },
  {
   "cell_type": "code",
   "execution_count": 21,
   "id": "712cda0d",
   "metadata": {},
   "outputs": [
    {
     "data": {
      "text/plain": [
       "{'ERC721': [ERC721(Address(0xCryptoPunks), CRYPTOPUNKS, {Address(0xJjCoin): Address(0xN3RPJjCoin)}, {Address(0xLender): 0, Address(0xN3RPJjCoin): 1}, {Address(0xJjCoin): None}, {}, EventLogger({'Mint': [['Mint', Address(0xLender), Address(0xLender), '2022/44/06 19:44:50', Address(0xJjCoin)]], 'Transfer': [['Transfer', None, Address(0xLender), '2022/44/06 19:44:50', Address(0xJjCoin)], ['Transfer', Address(0xLender), Address(0xN3RPJjCoin), '2022/44/06 19:44:51', Address(0xJjCoin)]], 'Approval': [['Approval', Address(0xLender), None, '2022/44/06 19:44:51', Address(0xJjCoin)]]},[]), False)],\n",
       " 'N3RP': [N3RP(Address(0xN3RPJjCoin),Ξ0,Address(0xN3RPJjCoin),Address(0xLender),Address(0xBorrower),Address(0xLender),Nft(Address(0xJjCoin)),Ξ227,Ξ25,20220209,20220211,True,True)]}"
      ]
     },
     "execution_count": 21,
     "metadata": {},
     "output_type": "execute_result"
    }
   ],
   "source": [
    "N3RPNUMBER0.testFunction()"
   ]
  },
  {
   "cell_type": "code",
   "execution_count": null,
   "id": "89383357",
   "metadata": {},
   "outputs": [],
   "source": []
  },
  {
   "cell_type": "code",
   "execution_count": null,
   "id": "2d39a9b3",
   "metadata": {},
   "outputs": [],
   "source": []
  },
  {
   "cell_type": "code",
   "execution_count": null,
   "id": "f7cb7dd5",
   "metadata": {},
   "outputs": [],
   "source": []
  },
  {
   "cell_type": "code",
   "execution_count": null,
   "id": "d7724b0c",
   "metadata": {},
   "outputs": [],
   "source": []
  },
  {
   "cell_type": "code",
   "execution_count": null,
   "id": "6bff84bb",
   "metadata": {},
   "outputs": [],
   "source": []
  },
  {
   "cell_type": "code",
   "execution_count": null,
   "id": "2e405f20",
   "metadata": {},
   "outputs": [],
   "source": []
  },
  {
   "cell_type": "code",
   "execution_count": null,
   "id": "658a37ad",
   "metadata": {},
   "outputs": [],
   "source": []
  },
  {
   "cell_type": "code",
   "execution_count": null,
   "id": "09fce955",
   "metadata": {},
   "outputs": [],
   "source": []
  },
  {
   "cell_type": "code",
   "execution_count": null,
   "id": "3796b336",
   "metadata": {},
   "outputs": [],
   "source": []
  },
  {
   "cell_type": "code",
   "execution_count": null,
   "id": "5da392f5",
   "metadata": {},
   "outputs": [],
   "source": []
  },
  {
   "cell_type": "code",
   "execution_count": null,
   "id": "24613031",
   "metadata": {},
   "outputs": [],
   "source": []
  },
  {
   "cell_type": "code",
   "execution_count": null,
   "id": "bc1271d8",
   "metadata": {},
   "outputs": [],
   "source": []
  }
 ],
 "metadata": {
  "kernelspec": {
   "display_name": "Python 3 (ipykernel)",
   "language": "python",
   "name": "python3"
  },
  "language_info": {
   "codemirror_mode": {
    "name": "ipython",
    "version": 3
   },
   "file_extension": ".py",
   "mimetype": "text/x-python",
   "name": "python",
   "nbconvert_exporter": "python",
   "pygments_lexer": "ipython3",
   "version": "3.8.12"
  }
 },
 "nbformat": 4,
 "nbformat_minor": 5
}
